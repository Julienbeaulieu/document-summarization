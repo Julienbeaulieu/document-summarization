{
 "cells": [
  {
   "cell_type": "markdown",
   "metadata": {},
   "source": [
    "## Pegagus"
   ]
  },
  {
   "cell_type": "code",
   "execution_count": 35,
   "metadata": {},
   "outputs": [],
   "source": [
    "import time\n",
    "import requests\n",
    "import nltk\n",
    "import pandas as pd\n",
    "from pathlib import Path\n",
    "from bs4 import BeautifulSoup"
   ]
  },
  {
   "cell_type": "code",
   "execution_count": 4,
   "metadata": {},
   "outputs": [],
   "source": [
    "API_KEY = 'LaeKPAYxU9a7LXNw9yzbbw5mydUhg3VQ'"
   ]
  },
  {
   "cell_type": "code",
   "execution_count": 5,
   "metadata": {},
   "outputs": [],
   "source": [
    "def send_request(topic):\n",
    "    '''Sends a request to the NYT Archive API for given date.'''\n",
    "    base_url = 'https://api.nytimes.com/svc/topstories/v2/'\n",
    "    url = base_url + '/' + topic + '.json?api-key=' + str(API_KEY)\n",
    "    response = requests.get(url).json()\n",
    "    time.sleep(2)\n",
    "    return response"
   ]
  },
  {
   "cell_type": "code",
   "execution_count": 6,
   "metadata": {},
   "outputs": [],
   "source": [
    "def parse_responses(response):\n",
    "\n",
    "    data = {'title': [],\n",
    "            'section': [],\n",
    "            'url': [],\n",
    "            }\n",
    "\n",
    "    articles = response['results']\n",
    "    for article in articles:\n",
    "        title = article['title']\n",
    "        section = article['section']\n",
    "        url = article['url']\n",
    "        if title:\n",
    "            data['title'].append(title)\n",
    "            data['section'].append(section)\n",
    "            data['url'].append(url)\n",
    "\n",
    "    return pd.DataFrame(data)"
   ]
  },
  {
   "cell_type": "code",
   "execution_count": 7,
   "metadata": {},
   "outputs": [],
   "source": [
    "def get_data(topic):\n",
    "    response = send_request(topic)\n",
    "    return parse_responses(response)"
   ]
  },
  {
   "cell_type": "code",
   "execution_count": 8,
   "metadata": {},
   "outputs": [],
   "source": [
    "def get_text_from_url(url):\n",
    "    session = requests.Session()\n",
    "\n",
    "    req = session.get(url)\n",
    "    soup = BeautifulSoup(req.text, 'html.parser')\n",
    "    paragraphs = soup.find_all('p')\n",
    "\n",
    "    text = [p.get_text() for p in paragraphs]\n",
    "\n",
    "    if text[-2].startswith('['):\n",
    "        return ', '.join(text[4:-2])\n",
    "    else:\n",
    "        return ', '.join(text[4:-1])"
   ]
  },
  {
   "cell_type": "code",
   "execution_count": 9,
   "metadata": {},
   "outputs": [],
   "source": [
    "def add_text_columns(df):\n",
    "\n",
    "    df = df[:5].copy()\n",
    "    t = time.time()\n",
    "    df['article_text'] = [get_text_from_url(url) for url in df.url]\n",
    "    print(time.time() - t)\n",
    "\n",
    "    return df"
   ]
  },
  {
   "cell_type": "code",
   "execution_count": 12,
   "metadata": {},
   "outputs": [],
   "source": [
    "def get_text(topic):\n",
    "\n",
    "    df = get_data(topic)\n",
    "    return add_text_columns(df)"
   ]
  },
  {
   "cell_type": "code",
   "execution_count": 78,
   "metadata": {},
   "outputs": [],
   "source": [
    "def get_summary(title):\n",
    "\n",
    "    # Get the text of the article based on the title that is given\n",
    "    text = df.loc[df.title == title].article_text.values\n",
    "    \n",
    "    url = df.loc[df.title == title].url.values\n",
    "\n",
    "    # Make sure article length\n",
    "    #max_len = min(len(text[0]), 1024)\n",
    "    #text = text[0][:max_len]\n",
    "\n",
    "    return text, url"
   ]
  },
  {
   "cell_type": "code",
   "execution_count": 36,
   "metadata": {},
   "outputs": [],
   "source": [
    "def nest_sentences(document):\n",
    "    nested = []\n",
    "    sent = []\n",
    "    length = 0\n",
    "    for sentence in nltk.sent_tokenize(document):\n",
    "        length += len(sentence)\n",
    "        if length < 1024:\n",
    "            sent.append(sentence)\n",
    "        else:\n",
    "            nested.append(sent)\n",
    "            sent = [sentence]\n",
    "            length = len(sentence)\n",
    "\n",
    "    if sent:\n",
    "        nested.append(sent)\n",
    "    return nested"
   ]
  },
  {
   "cell_type": "code",
   "execution_count": null,
   "metadata": {},
   "outputs": [],
   "source": []
  },
  {
   "cell_type": "code",
   "execution_count": null,
   "metadata": {},
   "outputs": [],
   "source": []
  },
  {
   "cell_type": "code",
   "execution_count": 25,
   "metadata": {},
   "outputs": [],
   "source": [
    "topic = \"science\""
   ]
  },
  {
   "cell_type": "code",
   "execution_count": 26,
   "metadata": {},
   "outputs": [
    {
     "name": "stdout",
     "output_type": "stream",
     "text": [
      "0.9856843948364258\n"
     ]
    }
   ],
   "source": [
    "df = get_text(topic)"
   ]
  },
  {
   "cell_type": "code",
   "execution_count": 66,
   "metadata": {},
   "outputs": [],
   "source": [
    "title = df.title[2]"
   ]
  },
  {
   "cell_type": "code",
   "execution_count": 81,
   "metadata": {},
   "outputs": [],
   "source": [
    "text,url = get_summary(title)\n",
    "text, url = text[0], url[0]"
   ]
  },
  {
   "cell_type": "code",
   "execution_count": 90,
   "metadata": {},
   "outputs": [],
   "source": [
    "from io import StringIO\n",
    "import sys\n",
    "\n",
    "result = StringIO()\n",
    "sys.stdout = result"
   ]
  },
  {
   "cell_type": "code",
   "execution_count": 91,
   "metadata": {},
   "outputs": [
    {
     "data": {
      "text/plain": [
       "''"
      ]
     },
     "execution_count": 91,
     "metadata": {},
     "output_type": "execute_result"
    }
   ],
   "source": [
    "result.getvalue()"
   ]
  },
  {
   "cell_type": "code",
   "execution_count": null,
   "metadata": {},
   "outputs": [],
   "source": [
    "result_string = result.getvalue()"
   ]
  },
  {
   "cell_type": "code",
   "execution_count": 84,
   "metadata": {},
   "outputs": [
    {
     "name": "stdout",
     "output_type": "stream",
     "text": [
      "https://www.nytimes.com/2020/10/13/health/eli-lilly-antibody.html\n"
     ]
    }
   ],
   "source": [
    "h = print(url)"
   ]
  },
  {
   "cell_type": "code",
   "execution_count": 85,
   "metadata": {},
   "outputs": [],
   "source": [
    "h"
   ]
  },
  {
   "cell_type": "code",
   "execution_count": 68,
   "metadata": {},
   "outputs": [],
   "source": [
    "nested = nest_sentences(text)"
   ]
  },
  {
   "cell_type": "code",
   "execution_count": 69,
   "metadata": {},
   "outputs": [
    {
     "data": {
      "text/plain": [
       "['A government-sponsored clinical trial that is testing an antibody treatment for Covid-19 developed by the drugmaker Eli Lilly has been paused because of a “potential safety concern,” according to emails that government officials sent on Tuesday to researchers at testing sites.',\n",
       " 'The company confirmed the pause., The news comes just a day after Johnson & Johnson announced the pause of its coronavirus vaccine trial because of a sick volunteer, and a month after AstraZeneca’s vaccine trial was halted over concerns about two participants who had fallen ill after getting the company’s vaccine., The Eli Lilly trial was designed to test the benefits of the antibody therapy on hundreds of people hospitalized with Covid-19, compared with a placebo.',\n",
       " 'All of the study participants also received another experimental drug, remdesivir, which has become commonly used to treat coronavirus patients.']"
      ]
     },
     "execution_count": 69,
     "metadata": {},
     "output_type": "execute_result"
    }
   ],
   "source": [
    "nested[0]"
   ]
  },
  {
   "cell_type": "code",
   "execution_count": 70,
   "metadata": {},
   "outputs": [],
   "source": [
    "import sys\n",
    "sys.path.append('../')\n",
    "from src.models.build_model import build_model\n",
    "from src.configs.yacs_configs import get_cfg_defaults\n",
    "\n",
    "class SummaryPredictor:\n",
    "    \"\"\"\n",
    "    Summarizes a given text\n",
    "    \"\"\"\n",
    "    def __init__(self, cfg):\n",
    "        self.cfg = cfg\n",
    "        self.model, self.tokenizer = build_model(self.cfg)\n",
    "\n",
    "    def __call__(self, text, cfg):\n",
    "        \"\"\"\n",
    "        Summarize on a single text\n",
    "        \"\"\"\n",
    "        assert isinstance(text, str), \"text must be a string\"\n",
    "\n",
    "        input_ids = self.tokenizer.encode(text, return_tensors=\"pt\")\n",
    "        input_ids = input_ids.to(cfg.DEVICE)\n",
    "        output = self.model.generate(input_ids,\n",
    "                                     max_length=cfg.MAX_LENGTH,\n",
    "                                     num_beams=cfg.NUM_BEAMS,\n",
    "                                     repetition_penalty=cfg.REPETITION_PENALTY,\n",
    "                                     length_penalty=cfg.LENGTH_PENALTY,\n",
    "                                     early_stopping=cfg.EARLY_STOPPING)\n",
    "\n",
    "        return [self.tokenizer.decode(g,\n",
    "                                      skip_special_tokens=True,\n",
    "                                      clean_up_tokenization_spaces=True) for g in output][0]\n",
    "\n",
    "    def generate_long_summary(self, nested_sentences, device):\n",
    "        '''Generate summary on text with <= 1024 tokens'''\n",
    "\n",
    "        summaries = []\n",
    "        for nested in nested_sentences:\n",
    "            input_tokenized = self.tokenizer.encode(' '.join(nested), truncation=True, return_tensors='pt')\n",
    "            input_tokenized = input_tokenized.to(device)\n",
    "            summary_ids = self.model.to(device).generate(input_tokenized,\n",
    "                                                         length_penalty=3.0,\n",
    "                                                         min_length=30,\n",
    "                                                         max_length=100)\n",
    "            output = [self.tokenizer.decode(g,\n",
    "                                            skip_special_tokens=True,\n",
    "                                            clean_up_tokenization_spaces=False) for g in summary_ids]\n",
    "            summaries.append(output)\n",
    "        summaries = [sentence for sublist in summaries for sentence in sublist]\n",
    "        return summaries"
   ]
  },
  {
   "cell_type": "code",
   "execution_count": 71,
   "metadata": {},
   "outputs": [],
   "source": [
    "cfg = get_cfg_defaults()\n",
    "cfg.MODEL.DEVICE = 'cpu'\n",
    "device = 'cpu'"
   ]
  },
  {
   "cell_type": "code",
   "execution_count": 72,
   "metadata": {},
   "outputs": [],
   "source": [
    "predictor = SummaryPredictor(cfg.MODEL)"
   ]
  },
  {
   "cell_type": "code",
   "execution_count": 77,
   "metadata": {},
   "outputs": [
    {
     "data": {
      "text/plain": [
       "[['A government-sponsored clinical trial that is testing an antibody treatment for Covid-19 developed by the drugmaker Eli Lilly has been paused because of a “potential safety concern,” according to emails that government officials sent on Tuesday to researchers at testing sites.',\n",
       "  'The company confirmed the pause., The news comes just a day after Johnson & Johnson announced the pause of its coronavirus vaccine trial because of a sick volunteer, and a month after AstraZeneca’s vaccine trial was halted over concerns about two participants who had fallen ill after getting the company’s vaccine., The Eli Lilly trial was designed to test the benefits of the antibody therapy on hundreds of people hospitalized with Covid-19, compared with a placebo.',\n",
       "  'All of the study participants also received another experimental drug, remdesivir, which has become commonly used to treat coronavirus patients.'],\n",
       " ['It is unclear exactly what safety issues prompted the pause., In large clinical trials, pauses are not unusual, and declines in health in volunteers are not necessarily the result of the experimental drug or vaccine.',\n",
       "  'Such halts are meant to allow an independent board of scientific experts to review the data and determine whether the event may have been related to the treatment or occurred by chance., “This is why clinical trials are essential,” said Marion Pepper, an immunologist at the University of Washington.',\n",
       "  '“The safety of the product has to be empirically proven.”, Enrollment for the Eli Lilly trial, which was sponsored by several branches of the National Institutes of Health and the Department of Veterans Affairs, among other organizations, had been continuing.',\n",
       "  'But on Tuesday, multiple officials sent emails to researchers telling them to stop adding volunteers to the study out of an “abundance of caution.”, In a statement, an N.I.H.'],\n",
       " ['spokeswoman said the trial, which had enrolled 326 Covid-19 patients, was paused when the independent safety board found that after five days of treatment, the group of patients who had received the antibodies showed a different “clinical status” than the group who had received a saline placebo — a difference that crossed a predetermined threshold for safety., The N.I.H.',\n",
       "  'statement did not specify the nature of the participants’ conditions.',\n",
       "  'But the so-called stopping rules for the trial lay out the conditions for “futility” — the idea that a treatment has a very low chance of working, based on the data so far.',\n",
       "  'A trial could also be halted if there is evidence that patients in one group are faring much worse than those in the other., Given the ambiguity in the statements released on Tuesday, all scenarios remain possible, said Dr. Eric Topol, a clinical trials expert at the Scripps Research Institute.'],\n",
       " ['“It’s so amorphous,” Dr. Topol said., The safety board will review the data again on Oct. 26, and advise the N.I.H.',\n",
       "  'on whether to resume the trial, the statement said.',\n",
       "  'In the meantime, researchers will continue to collect data from people already enrolled in the study., Several experts praised the trial’s sponsors for halting the trial to address the safety of their product, as AstraZeneca and Johnson & Johnson have done with their vaccines.',\n",
       "  '“They are doing things by the book,” said Dr. Maricar Malinis, an infectious disease physician at Yale., In a statement sent over email, Molly McCully, a spokeswoman for Eli Lilly, confirmed the pause.',\n",
       "  '“Safety is of the utmost importance to Lilly,” she said.',\n",
       "  '“Lilly is supportive of the decision by the independent D.S.M.B.']]"
      ]
     },
     "execution_count": 77,
     "metadata": {},
     "output_type": "execute_result"
    }
   ],
   "source": [
    "nested[:4]"
   ]
  },
  {
   "cell_type": "code",
   "execution_count": 73,
   "metadata": {},
   "outputs": [
    {
     "data": {
      "text/plain": [
       "'A government-sponsored clinical trial that is testing an antibody treatment for Covid-19 has been paused. The company confirmed the pause. The news comes just a day after Johnson & Johnson announced the pause of its coronavirus vaccine trial because of a sick volunteer.\\nIt is unclear exactly what safety issues prompted the pause., In large clinical trials, pauses are not unusual. Such halts are meant to allow an independent board of scientific experts to review the data.\\nThe N.I.H. statement did not specify the nature of the participants’ conditions. The independent safety board found that after five days of treatment, the group of patients who had received the antibodies showed a different ‘clinical status’\\n“It’s so amorphous,” Dr. Topol said. The safety board will review the data again on Oct. 26, and advise the N.I.H.\\nEli Lilly is one of several companies pursuing experimental treatments for Covid-19. Mr. Trump has promoted such treatments, without evidence, as a “cure” for his condition.\\nEli Lilly has applied for authorization of its drug for mild or moderate cases of Covid-19. Company is also trialing its antibody treatment in people who have recently tested positive for the coronavirus.\\nEli Lilly also hopes to collect data to figure out whether antibodies can protect certain people from developing Covid-19 after encountering the virus. Given too late — as, perhaps, could be the case in some severely ill patients who are already in the hospital — antibodies may have little effect.'"
      ]
     },
     "execution_count": 73,
     "metadata": {},
     "output_type": "execute_result"
    }
   ],
   "source": [
    "predictor.generate_long_summary(nested, device)"
   ]
  },
  {
   "cell_type": "code",
   "execution_count": 57,
   "metadata": {},
   "outputs": [],
   "source": [
    "text = ['More than 38 million people worldwide have been infected with the coronavirus. As of Monday, fewer than five of those cases have been confirmed by scientists to be reinfections.',\n",
    " 'An 89-year-old woman in the Netherlands died during her second illness. For at least three people, including one patient in Ecuador, the illness was more severe the second time around.',\n",
    " 'Since the first confirmed case of reinfection, reported in Hong Kong on Aug. 24, there have been three published cases; reports of another 20 await scientific review. It’s impossible to know exactly how widespread the phenomenon is.',\n",
    " 'A vast majority of people who do get reinfected may go undetected. The man in Hong Kong had no symptoms the second time, and his infection was discovered only because of routine screening at the airport.',\n",
    " '“If this was a very common event, we would have seen thousands of cases,” Dr. Iwasaki said. Reinfections can occur for any number of reasons.',\n",
    " 'In other reinfected patients, genetic factors or the lack of certain previous immune exposures may have blunted the body’s ability to fight off a second attack. In a vast majority of known infected patients, experts said, the immune system functions as it should against other pathogens.',\n",
    " 'For every confirmed case of reinfection, there are dozens of anecdotal reports of infected people who were sick and seemingly recovered. Usually there are crucial data missing in those cases, like a confirmed lab diagnosis.',\n",
    " 'The virus may set off an inflammatory response that can flare up even weeks later. In rare cases, some patients may develop a chronic low-grade infection with the virus.',\n",
    " 'South Korean researchers investigated hundreds of reports of reinfection and were able to rule them out as real cases. Similar procedures would be needed to rule out the possibility of transmission in each patient.',\n",
    " 'The worry is that the immunity produced by vaccines will not be sufficient in preventing reinfections with the virus. In reality, vaccines have a better chance at generating robust immunity than does natural infection.',\n",
    " 'Vaccines can also be manipulated to enhance immune memory, in that way producing more lasting, more protective responses. Vaccine trials are designed to look for an absence of disease, not infection.']"
   ]
  },
  {
   "cell_type": "code",
   "execution_count": 64,
   "metadata": {},
   "outputs": [
    {
     "name": "stdout",
     "output_type": "stream",
     "text": [
      "More than 38 million people worldwide have been infected with the coronavirus. As of Monday, fewer than five of those cases have been confirmed by scientists to be reinfections.\n",
      "An 89-year-old woman in the Netherlands died during her second illness. For at least three people, including one patient in Ecuador, the illness was more severe the second time around.\n",
      "Since the first confirmed case of reinfection, reported in Hong Kong on Aug. 24, there have been three published cases; reports of another 20 await scientific review. It’s impossible to know exactly how widespread the phenomenon is.\n",
      "A vast majority of people who do get reinfected may go undetected. The man in Hong Kong had no symptoms the second time, and his infection was discovered only because of routine screening at the airport.\n",
      "“If this was a very common event, we would have seen thousands of cases,” Dr. Iwasaki said. Reinfections can occur for any number of reasons.\n",
      "In other reinfected patients, genetic factors or the lack of certain previous immune exposures may have blunted the body’s ability to fight off a second attack. In a vast majority of known infected patients, experts said, the immune system functions as it should against other pathogens.\n",
      "For every confirmed case of reinfection, there are dozens of anecdotal reports of infected people who were sick and seemingly recovered. Usually there are crucial data missing in those cases, like a confirmed lab diagnosis.\n",
      "The virus may set off an inflammatory response that can flare up even weeks later. In rare cases, some patients may develop a chronic low-grade infection with the virus.\n",
      "South Korean researchers investigated hundreds of reports of reinfection and were able to rule them out as real cases. Similar procedures would be needed to rule out the possibility of transmission in each patient.\n",
      "The worry is that the immunity produced by vaccines will not be sufficient in preventing reinfections with the virus. In reality, vaccines have a better chance at generating robust immunity than does natural infection.\n",
      "Vaccines can also be manipulated to enhance immune memory, in that way producing more lasting, more protective responses. Vaccine trials are designed to look for an absence of disease, not infection.\n"
     ]
    }
   ],
   "source": [
    "print('\\n'.join(text))"
   ]
  },
  {
   "cell_type": "code",
   "execution_count": null,
   "metadata": {},
   "outputs": [],
   "source": []
  }
 ],
 "metadata": {
  "kernelspec": {
   "display_name": "Python (summarization)",
   "language": "python",
   "name": "summarization"
  },
  "language_info": {
   "codemirror_mode": {
    "name": "ipython",
    "version": 3
   },
   "file_extension": ".py",
   "mimetype": "text/x-python",
   "name": "python",
   "nbconvert_exporter": "python",
   "pygments_lexer": "ipython3",
   "version": "3.8.5"
  },
  "toc": {
   "base_numbering": 1,
   "nav_menu": {},
   "number_sections": true,
   "sideBar": true,
   "skip_h1_title": false,
   "title_cell": "Table of Contents",
   "title_sidebar": "Contents",
   "toc_cell": false,
   "toc_position": {},
   "toc_section_display": true,
   "toc_window_display": false
  }
 },
 "nbformat": 4,
 "nbformat_minor": 4
}
